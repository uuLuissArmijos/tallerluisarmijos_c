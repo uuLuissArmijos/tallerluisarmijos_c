{
 "cells": [
  {
   "cell_type": "code",
   "execution_count": null,
   "metadata": {},
   "outputs": [],
   "source": [
    "def sumar (a,b):\n",
    "    return a+b \n",
    "\n",
    "print(sumar(2,3))\n",
    "print (sumar(3,4))"
   ]
  }
 ],
 "metadata": {
  "language_info": {
   "name": "python"
  },
  "orig_nbformat": 4
 },
 "nbformat": 4,
 "nbformat_minor": 2
}
